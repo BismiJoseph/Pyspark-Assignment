{
 "cells": [
  {
   "cell_type": "markdown",
   "metadata": {},
   "source": [
    "## Amazon - Ecommerce"
   ]
  },
  {
   "cell_type": "markdown",
   "metadata": {},
   "source": [
    "Group memebers:\n",
    "\n",
    "    Bismi Joseph -(20BDA07)\n",
    "    \n",
    "    Aadhya       -(20BDA40)\n",
    "    \n",
    "    Glennis      -(20BDA24)\n",
    "    \n",
    "    Bharath      -(20BDA59)\n",
    "    "
   ]
  },
  {
   "cell_type": "markdown",
   "metadata": {},
   "source": [
    "Importing necessary packages"
   ]
  },
  {
   "cell_type": "code",
   "execution_count": 1,
   "metadata": {},
   "outputs": [],
   "source": [
    "import os\n",
    "import pandas as pd\n",
    "# importing pyspark\n",
    "import pyspark\n",
    "# importing all from pyspark.sql.function\n",
    "from pyspark.sql.functions import *\n",
    "from pyspark import SparkConf, SparkContext, SQLContext\n",
    "from pyspark.sql.types import DoubleType, IntegerType, DateType"
   ]
  },
  {
   "cell_type": "code",
   "execution_count": 2,
   "metadata": {},
   "outputs": [],
   "source": [
    "os.environ['PYSPARK SUBMIT ARGS'] = \" --master local[2] pyspark-shell\"\n",
    "os.environ['JAVA_HOME'] = 'C:\\Program Files\\Java\\jdk1.8.0_301'"
   ]
  },
  {
   "cell_type": "code",
   "execution_count": 3,
   "metadata": {},
   "outputs": [
    {
     "name": "stdout",
     "output_type": "stream",
     "text": [
      "<SparkContext master=local appName=test>\n",
      "<pyspark.sql.context.SQLContext object at 0x00000166161C8A30>\n"
     ]
    },
    {
     "name": "stderr",
     "output_type": "stream",
     "text": [
      "C:\\ProgramData\\Anaconda3\\lib\\site-packages\\pyspark\\sql\\context.py:77: FutureWarning: Deprecated in 3.0.0. Use SparkSession.builder.getOrCreate() instead.\n",
      "  warnings.warn(\n"
     ]
    }
   ],
   "source": [
    "conf = SparkConf().setAppName(\"test\").setMaster(\"local\")\n",
    "sc = SparkContext(conf=conf)\n",
    "sqlContext = SQLContext(sc)\n",
    "print(sc)\n",
    "print(sqlContext)"
   ]
  },
  {
   "cell_type": "markdown",
   "metadata": {},
   "source": [
    "### i.Extract:  Load the data"
   ]
  },
  {
   "cell_type": "code",
   "execution_count": 4,
   "metadata": {},
   "outputs": [],
   "source": [
    "df = pd.read_csv(\"C:/Users/Bismi Joseph/Downloads/amazon_co-ecommerce_sample1000.csv\")"
   ]
  },
  {
   "cell_type": "code",
   "execution_count": 5,
   "metadata": {},
   "outputs": [
    {
     "data": {
      "text/html": [
       "<div>\n",
       "<style scoped>\n",
       "    .dataframe tbody tr th:only-of-type {\n",
       "        vertical-align: middle;\n",
       "    }\n",
       "\n",
       "    .dataframe tbody tr th {\n",
       "        vertical-align: top;\n",
       "    }\n",
       "\n",
       "    .dataframe thead th {\n",
       "        text-align: right;\n",
       "    }\n",
       "</style>\n",
       "<table border=\"1\" class=\"dataframe\">\n",
       "  <thead>\n",
       "    <tr style=\"text-align: right;\">\n",
       "      <th></th>\n",
       "      <th>uniq_id</th>\n",
       "      <th>product_name</th>\n",
       "      <th>manufacturer</th>\n",
       "      <th>price</th>\n",
       "      <th>number_available_in_stock</th>\n",
       "      <th>number_of_reviews</th>\n",
       "      <th>number_of_answered_questions</th>\n",
       "      <th>average_review_rating</th>\n",
       "      <th>amazon_category_and_sub_category</th>\n",
       "      <th>customers_who_bought_this_item_also_bought</th>\n",
       "      <th>...</th>\n",
       "      <th>Unnamed: 17</th>\n",
       "      <th>Unnamed: 18</th>\n",
       "      <th>Unnamed: 19</th>\n",
       "      <th>Unnamed: 20</th>\n",
       "      <th>Unnamed: 21</th>\n",
       "      <th>Unnamed: 22</th>\n",
       "      <th>Unnamed: 23</th>\n",
       "      <th>Unnamed: 24</th>\n",
       "      <th>Unnamed: 25</th>\n",
       "      <th>Unnamed: 26</th>\n",
       "    </tr>\n",
       "  </thead>\n",
       "  <tbody>\n",
       "    <tr>\n",
       "      <th>0</th>\n",
       "      <td>eac7efa5dbd3d667f26eb3d3ab504464</td>\n",
       "      <td>Hornby 2014 Catalogue</td>\n",
       "      <td>Hornby</td>\n",
       "      <td>£3.42</td>\n",
       "      <td>5 new</td>\n",
       "      <td>15.0</td>\n",
       "      <td>1.0</td>\n",
       "      <td>4.9 out of 5 stars</td>\n",
       "      <td>Hobbies &gt; Model Trains &amp; Railway Sets &gt; Rail V...</td>\n",
       "      <td>http://www.amazon.co.uk/Hornby-R8150-Catalogue...</td>\n",
       "      <td>...</td>\n",
       "      <td>NaN</td>\n",
       "      <td>NaN</td>\n",
       "      <td>NaN</td>\n",
       "      <td>NaN</td>\n",
       "      <td>NaN</td>\n",
       "      <td>NaN</td>\n",
       "      <td>NaN</td>\n",
       "      <td>NaN</td>\n",
       "      <td>NaN</td>\n",
       "      <td>NaN</td>\n",
       "    </tr>\n",
       "    <tr>\n",
       "      <th>1</th>\n",
       "      <td>b17540ef7e86e461d37f3ae58b7b72ac</td>\n",
       "      <td>FunkyBuys® Large Christmas Holiday Express Fes...</td>\n",
       "      <td>FunkyBuys</td>\n",
       "      <td>£16.99</td>\n",
       "      <td>NaN</td>\n",
       "      <td>2.0</td>\n",
       "      <td>1.0</td>\n",
       "      <td>4.5 out of 5 stars</td>\n",
       "      <td>Hobbies &gt; Model Trains &amp; Railway Sets &gt; Rail V...</td>\n",
       "      <td>http://www.amazon.co.uk/Christmas-Holiday-Expr...</td>\n",
       "      <td>...</td>\n",
       "      <td>NaN</td>\n",
       "      <td>NaN</td>\n",
       "      <td>NaN</td>\n",
       "      <td>NaN</td>\n",
       "      <td>NaN</td>\n",
       "      <td>NaN</td>\n",
       "      <td>NaN</td>\n",
       "      <td>NaN</td>\n",
       "      <td>NaN</td>\n",
       "      <td>NaN</td>\n",
       "    </tr>\n",
       "    <tr>\n",
       "      <th>2</th>\n",
       "      <td>348f344247b0c1a935b1223072ef9d8a</td>\n",
       "      <td>CLASSIC TOY TRAIN SET TRACK CARRIAGES LIGHT EN...</td>\n",
       "      <td>ccf</td>\n",
       "      <td>£9.99</td>\n",
       "      <td>2 new</td>\n",
       "      <td>17.0</td>\n",
       "      <td>2.0</td>\n",
       "      <td>3.9 out of 5 stars</td>\n",
       "      <td>Hobbies &gt; Model Trains &amp; Railway Sets &gt; Rail V...</td>\n",
       "      <td>http://www.amazon.co.uk/Classic-Train-Lights-B...</td>\n",
       "      <td>...</td>\n",
       "      <td>NaN</td>\n",
       "      <td>NaN</td>\n",
       "      <td>NaN</td>\n",
       "      <td>NaN</td>\n",
       "      <td>NaN</td>\n",
       "      <td>NaN</td>\n",
       "      <td>NaN</td>\n",
       "      <td>NaN</td>\n",
       "      <td>NaN</td>\n",
       "      <td>NaN</td>\n",
       "    </tr>\n",
       "    <tr>\n",
       "      <th>3</th>\n",
       "      <td>e12b92dbb8eaee78b22965d2a9bbbd9f</td>\n",
       "      <td>HORNBY Coach R4410A BR Hawksworth Corridor 3rd</td>\n",
       "      <td>Hornby</td>\n",
       "      <td>£39.99</td>\n",
       "      <td>NaN</td>\n",
       "      <td>1.0</td>\n",
       "      <td>2.0</td>\n",
       "      <td>5.0 out of 5 stars</td>\n",
       "      <td>Hobbies &gt; Model Trains &amp; Railway Sets &gt; Rail V...</td>\n",
       "      <td>NaN</td>\n",
       "      <td>...</td>\n",
       "      <td>NaN</td>\n",
       "      <td>NaN</td>\n",
       "      <td>NaN</td>\n",
       "      <td>NaN</td>\n",
       "      <td>NaN</td>\n",
       "      <td>NaN</td>\n",
       "      <td>NaN</td>\n",
       "      <td>NaN</td>\n",
       "      <td>NaN</td>\n",
       "      <td>NaN</td>\n",
       "    </tr>\n",
       "    <tr>\n",
       "      <th>4</th>\n",
       "      <td>e33a9adeed5f36840ccc227db4682a36</td>\n",
       "      <td>Hornby 00 Gauge 0-4-0 Gildenlow Salt Co. Steam...</td>\n",
       "      <td>Hornby</td>\n",
       "      <td>£32.19</td>\n",
       "      <td>NaN</td>\n",
       "      <td>3.0</td>\n",
       "      <td>2.0</td>\n",
       "      <td>4.7 out of 5 stars</td>\n",
       "      <td>Hobbies &gt; Model Trains &amp; Railway Sets &gt; Rail V...</td>\n",
       "      <td>http://www.amazon.co.uk/Hornby-R6367-RailRoad-...</td>\n",
       "      <td>...</td>\n",
       "      <td>NaN</td>\n",
       "      <td>NaN</td>\n",
       "      <td>NaN</td>\n",
       "      <td>NaN</td>\n",
       "      <td>NaN</td>\n",
       "      <td>NaN</td>\n",
       "      <td>NaN</td>\n",
       "      <td>NaN</td>\n",
       "      <td>NaN</td>\n",
       "      <td>NaN</td>\n",
       "    </tr>\n",
       "    <tr>\n",
       "      <th>5</th>\n",
       "      <td>cb34f0a84102c1ebc3ef6892d7444d36</td>\n",
       "      <td>20pcs Model Garden Light Double Heads Lamppost...</td>\n",
       "      <td>Generic</td>\n",
       "      <td>£6.99</td>\n",
       "      <td>NaN</td>\n",
       "      <td>2.0</td>\n",
       "      <td>1.0</td>\n",
       "      <td>5.0 out of 5 stars</td>\n",
       "      <td>Hobbies &gt; Model Trains &amp; Railway Sets &gt; Lighti...</td>\n",
       "      <td>http://www.amazon.co.uk/Single-Head-Garden-Lig...</td>\n",
       "      <td>...</td>\n",
       "      <td>NaN</td>\n",
       "      <td>NaN</td>\n",
       "      <td>NaN</td>\n",
       "      <td>NaN</td>\n",
       "      <td>NaN</td>\n",
       "      <td>NaN</td>\n",
       "      <td>NaN</td>\n",
       "      <td>NaN</td>\n",
       "      <td>NaN</td>\n",
       "      <td>NaN</td>\n",
       "    </tr>\n",
       "    <tr>\n",
       "      <th>6</th>\n",
       "      <td>f74b562470571dfb689324adf236f82c</td>\n",
       "      <td>Hornby 00 Gauge 230mm BR Bogie Passenger Brake...</td>\n",
       "      <td>Hornby</td>\n",
       "      <td>£24.99</td>\n",
       "      <td>NaN</td>\n",
       "      <td>2.0</td>\n",
       "      <td>1.0</td>\n",
       "      <td>4.5 out of 5 stars</td>\n",
       "      <td>Hobbies &gt; Model Trains &amp; Railway Sets &gt; Rail V...</td>\n",
       "      <td>http://www.amazon.co.uk/Hornby-R4388-RailRoad-...</td>\n",
       "      <td>...</td>\n",
       "      <td>NaN</td>\n",
       "      <td>NaN</td>\n",
       "      <td>NaN</td>\n",
       "      <td>NaN</td>\n",
       "      <td>NaN</td>\n",
       "      <td>NaN</td>\n",
       "      <td>NaN</td>\n",
       "      <td>NaN</td>\n",
       "      <td>NaN</td>\n",
       "      <td>NaN</td>\n",
       "    </tr>\n",
       "  </tbody>\n",
       "</table>\n",
       "<p>7 rows × 27 columns</p>\n",
       "</div>"
      ],
      "text/plain": [
       "                            uniq_id  \\\n",
       "0  eac7efa5dbd3d667f26eb3d3ab504464   \n",
       "1  b17540ef7e86e461d37f3ae58b7b72ac   \n",
       "2  348f344247b0c1a935b1223072ef9d8a   \n",
       "3  e12b92dbb8eaee78b22965d2a9bbbd9f   \n",
       "4  e33a9adeed5f36840ccc227db4682a36   \n",
       "5  cb34f0a84102c1ebc3ef6892d7444d36   \n",
       "6  f74b562470571dfb689324adf236f82c   \n",
       "\n",
       "                                        product_name manufacturer   price  \\\n",
       "0                              Hornby 2014 Catalogue       Hornby   £3.42   \n",
       "1  FunkyBuys® Large Christmas Holiday Express Fes...    FunkyBuys  £16.99   \n",
       "2  CLASSIC TOY TRAIN SET TRACK CARRIAGES LIGHT EN...          ccf   £9.99   \n",
       "3     HORNBY Coach R4410A BR Hawksworth Corridor 3rd       Hornby  £39.99   \n",
       "4  Hornby 00 Gauge 0-4-0 Gildenlow Salt Co. Steam...       Hornby  £32.19   \n",
       "5  20pcs Model Garden Light Double Heads Lamppost...      Generic   £6.99   \n",
       "6  Hornby 00 Gauge 230mm BR Bogie Passenger Brake...       Hornby  £24.99   \n",
       "\n",
       "  number_available_in_stock  number_of_reviews  number_of_answered_questions  \\\n",
       "0                     5 new               15.0                           1.0   \n",
       "1                       NaN                2.0                           1.0   \n",
       "2                     2 new               17.0                           2.0   \n",
       "3                       NaN                1.0                           2.0   \n",
       "4                       NaN                3.0                           2.0   \n",
       "5                       NaN                2.0                           1.0   \n",
       "6                       NaN                2.0                           1.0   \n",
       "\n",
       "  average_review_rating                   amazon_category_and_sub_category  \\\n",
       "0    4.9 out of 5 stars  Hobbies > Model Trains & Railway Sets > Rail V...   \n",
       "1    4.5 out of 5 stars  Hobbies > Model Trains & Railway Sets > Rail V...   \n",
       "2    3.9 out of 5 stars  Hobbies > Model Trains & Railway Sets > Rail V...   \n",
       "3    5.0 out of 5 stars  Hobbies > Model Trains & Railway Sets > Rail V...   \n",
       "4    4.7 out of 5 stars  Hobbies > Model Trains & Railway Sets > Rail V...   \n",
       "5    5.0 out of 5 stars  Hobbies > Model Trains & Railway Sets > Lighti...   \n",
       "6    4.5 out of 5 stars  Hobbies > Model Trains & Railway Sets > Rail V...   \n",
       "\n",
       "          customers_who_bought_this_item_also_bought  ... Unnamed: 17  \\\n",
       "0  http://www.amazon.co.uk/Hornby-R8150-Catalogue...  ...         NaN   \n",
       "1  http://www.amazon.co.uk/Christmas-Holiday-Expr...  ...         NaN   \n",
       "2  http://www.amazon.co.uk/Classic-Train-Lights-B...  ...         NaN   \n",
       "3                                                NaN  ...         NaN   \n",
       "4  http://www.amazon.co.uk/Hornby-R6367-RailRoad-...  ...         NaN   \n",
       "5  http://www.amazon.co.uk/Single-Head-Garden-Lig...  ...         NaN   \n",
       "6  http://www.amazon.co.uk/Hornby-R4388-RailRoad-...  ...         NaN   \n",
       "\n",
       "  Unnamed: 18 Unnamed: 19 Unnamed: 20 Unnamed: 21 Unnamed: 22 Unnamed: 23  \\\n",
       "0         NaN         NaN         NaN         NaN         NaN         NaN   \n",
       "1         NaN         NaN         NaN         NaN         NaN         NaN   \n",
       "2         NaN         NaN         NaN         NaN         NaN         NaN   \n",
       "3         NaN         NaN         NaN         NaN         NaN         NaN   \n",
       "4         NaN         NaN         NaN         NaN         NaN         NaN   \n",
       "5         NaN         NaN         NaN         NaN         NaN         NaN   \n",
       "6         NaN         NaN         NaN         NaN         NaN         NaN   \n",
       "\n",
       "  Unnamed: 24 Unnamed: 25 Unnamed: 26  \n",
       "0         NaN         NaN         NaN  \n",
       "1         NaN         NaN         NaN  \n",
       "2         NaN         NaN         NaN  \n",
       "3         NaN         NaN         NaN  \n",
       "4         NaN         NaN         NaN  \n",
       "5         NaN         NaN         NaN  \n",
       "6         NaN         NaN         NaN  \n",
       "\n",
       "[7 rows x 27 columns]"
      ]
     },
     "execution_count": 5,
     "metadata": {},
     "output_type": "execute_result"
    }
   ],
   "source": [
    "df.head(7)"
   ]
  },
  {
   "cell_type": "code",
   "execution_count": 6,
   "metadata": {},
   "outputs": [],
   "source": [
    "from pyspark.sql import SparkSession\n",
    "#Create PySpark SparkSession\n",
    "spark = SparkSession.builder \\\n",
    "    .master(\"local[1]\") \\\n",
    "    .appName(\"SparkByExamples.com\") \\\n",
    "    .getOrCreate()"
   ]
  },
  {
   "cell_type": "markdown",
   "metadata": {},
   "source": [
    "### Read data as csv via spark dataframe"
   ]
  },
  {
   "cell_type": "code",
   "execution_count": 7,
   "metadata": {},
   "outputs": [],
   "source": [
    "spark.conf.set(\"spark.sql.execution.arrow.enabled\",\"true\")\n",
    "data=spark.createDataFrame(df) "
   ]
  },
  {
   "cell_type": "code",
   "execution_count": 8,
   "metadata": {},
   "outputs": [
    {
     "data": {
      "text/plain": [
       "pyspark.sql.dataframe.DataFrame"
      ]
     },
     "execution_count": 8,
     "metadata": {},
     "output_type": "execute_result"
    }
   ],
   "source": [
    "type(data)"
   ]
  },
  {
   "cell_type": "code",
   "execution_count": 9,
   "metadata": {},
   "outputs": [],
   "source": [
    "header=data.first()"
   ]
  },
  {
   "cell_type": "code",
   "execution_count": 10,
   "metadata": {},
   "outputs": [
    {
     "name": "stdout",
     "output_type": "stream",
     "text": [
      "Row(uniq_id='eac7efa5dbd3d667f26eb3d3ab504464', product_name='Hornby 2014 Catalogue', manufacturer='Hornby', price='£3.42', number_available_in_stock='5\\xa0new', number_of_reviews=15.0, number_of_answered_questions=1.0, average_review_rating='4.9 out of 5 stars', amazon_category_and_sub_category='Hobbies > Model Trains & Railway Sets > Rail Vehicles > Trains', customers_who_bought_this_item_also_bought='http://www.amazon.co.uk/Hornby-R8150-Catalogue-2015/dp/B00S9SUUBE | http://www.amazon.co.uk/Hornby-Book-Model-Railways-Edition/dp/1844860957 | http://www.amazon.co.uk/Hornby-Book-Scenic-Railway-Modelling/dp/1844861120 | http://www.amazon.co.uk/Peco-60-Plans-Book/dp/B002QVL16I | http://www.amazon.co.uk/Hornby-Gloucester | http://www.amazon.co.uk/Airfix-5014429781902', description='Product Description Hornby 2014 Catalogue Box Contains 1 x one catalogue', product_information='Technical Details Item Weight640 g Product Dimensions29.6 x 20.8 x 1 cm Manufacturer recommended age:6 years and up Item model numberR8148 Main Language(s)English manual, English Number of Game Players1 Number of Puzzle Pieces1 Assembly RequiredNo Scale1:72 Engine Typeelectric Track Width/GaugeHO Batteries Required?No Batteries Included?No Material Type(s)Paper Material Care InstructionsNo Remote Control Included?No Radio Control Suitabilityindoor Colorwhite \\xa0\\xa0 Additional Information ASINB00HJ208KO Best Sellers Rank 52,854 in Toys & Games (See top 100) #69 in\\xa0Toys & Games > Model Trains & Railway Sets > Rail Vehicles > Trains Shipping Weight640 g Delivery Destinations:Visit the Delivery Destinations Help page to see where this item can be delivered. Date First Available24 Dec. 2013 \\xa0\\xa0 Feedback \\xa0Would you like to update product info or give feedback on images?', product_description='Product Description Hornby 2014 Catalogue Box Contains 1 x one catalogue', items_customers_buy_after_viewing_this_item='http://www.amazon.co.uk/Hornby-R8150-Catalogue-2015/dp/B00S9SUUBE | http://www.amazon.co.uk/Hornby-Book-Model-Railways-Edition/dp/1844860957 | http://www.amazon.co.uk/Peco-60-Plans-Book/dp/B002QVL16I | http://www.amazon.co.uk/Newcomers-Guide-Model-Railways-Step/dp/1857943295', customer_questions_and_answers='Does this catalogue detail all the previous Hornby products please? // HiThe 2014 catalogue does indeed detail previous models but also includes new releases for 2014.You would be advised to purchase models as you need them to avoid them being discontinued in subsequent years…\\n    \\n      see more\\n    \\n  \\n  \\n    HiThe 2014 catalogue does indeed detail previous models but also includes new releases for 2014.You would be advised to purchase models as you need them to avoid them being discontinued in subsequent yearsHope this helps\\n    \\n      see less', customer_reviews=\"Worth Buying For The Pictures Alone (As Ever) // 4.0 // 6 April 2014 // By\\n    \\n    Copnovelist\\n  \\n on 6 April 2014 // Part of the magic for me growing up as a boy was to buy (or be given) the new Hornby catalogue every year, even if it included 90% of the same products as the previous year.  I've still got my old ones dating back to the 70s and 80s somewhere.  These days the catalogue is especially informative in that it tells you the vintage of the rolling stock which is useful if you are dedicating your railway to one particular era and train company. | Amazing detail fabulous photography. // 5.0 // 11 April 2015 // By\\n    \\n    richard\\n  \\n on 11 April 2015 // Amazing detail, every credit to the photographer in this book, a worthy reference manual, as well as a sales brochure. even if you only have a passing interest in the hobby you will be transported to another time when we were all younger and in awe of the big trains. | 'Great Purchase' // 5.0 // 23 April 2014 // By\\n    \\n    Pinkhandbag\\n  \\n on 23 April 2014 // This was purchased on behalf of my Dad. He is always asking me to look up 00 gauge engines online, so this has been a good buy as he can look at it anytime. Would definitely buy the next one 2015!It arrived quickly and in perfect condition :-) | Great Catalogue // 5.0 // 11 Jun. 2014 // By\\n    \\n    Gary John Mapson\\n  \\n on 11 Jun. 2014 // Everything I really needed to see what was on offer from Hornby in the way of trains.  Would not have minded it included an RRP as well though | I collect them all as the glossy pictures are great and it is nice that you can still get ... // 5.0 // 7 Dec. 2014 // By\\n    \\n    David Baker\\n  \\n on 7 Dec. 2014 // I collect them all as the glossy pictures are great and it is nice that you can still get catalogs to collect. | Great catalogue // 5.0 // 20 Mar. 2015 // By\\n    \\n    John A. Day\\n  \\n on 20 Mar. 2015 // What a great book.  Extremely useful insight to all future christmas presents. | Useful // 5.0 // 7 Oct. 2014 // By\\n    \\n    T. Davies\\n  \\n on 7 Oct. 2014 // Useful info for someonelike me starting back into the hobby after many years | hornbys latest catalogue. // 5.0 // 1 Dec. 2014 // By\\n    \\n    John Butlin\\n  \\n on 1 Dec. 2014 // A well produced very good quality catalogue.Super quality pictures.\", sellers='{\"seller\"=>[{\"Seller_name_1\"=>\"Amazon.co.uk\", \"Seller_price_1\"=>\"£3.42\"}, {\"Seller_name_2\"=>\"**stop-&-shop-uk**\", \"Seller_price_2\"=>\"£0.19\"}, {\"Seller_name_3\"=>\"World Wide Shopping Mall Ltd\", \"Seller_price_3\"=>\"£9.99\"}, {\"Seller_name_4\"=>\"MyHobbyStore Retail\", \"Seller_price_4\"=>\"£8.00\"}, {\"Seller_name_5\"=>\"francejouet\", \"Seller_price_5\"=>\"£37.62\"}]}', Unnamed: 17=None, Unnamed: 18=None, Unnamed: 19=None, Unnamed: 20=None, Unnamed: 21=None, Unnamed: 22=None, Unnamed: 23=None, Unnamed: 24=None, Unnamed: 25=None, Unnamed: 26=None)\n"
     ]
    }
   ],
   "source": [
    "print(header)"
   ]
  },
  {
   "cell_type": "code",
   "execution_count": 11,
   "metadata": {},
   "outputs": [
    {
     "data": {
      "text/plain": [
       "pyspark.sql.dataframe.DataFrame"
      ]
     },
     "execution_count": 11,
     "metadata": {},
     "output_type": "execute_result"
    }
   ],
   "source": [
    "# To see the dataframe\n",
    "type(data)"
   ]
  },
  {
   "cell_type": "code",
   "execution_count": 12,
   "metadata": {},
   "outputs": [
    {
     "name": "stdout",
     "output_type": "stream",
     "text": [
      "root\n",
      " |-- uniq_id: string (nullable = true)\n",
      " |-- product_name: string (nullable = true)\n",
      " |-- manufacturer: string (nullable = true)\n",
      " |-- price: string (nullable = true)\n",
      " |-- number_available_in_stock: string (nullable = true)\n",
      " |-- number_of_reviews: double (nullable = true)\n",
      " |-- number_of_answered_questions: double (nullable = true)\n",
      " |-- average_review_rating: string (nullable = true)\n",
      " |-- amazon_category_and_sub_category: string (nullable = true)\n",
      " |-- customers_who_bought_this_item_also_bought: string (nullable = true)\n",
      " |-- description: string (nullable = true)\n",
      " |-- product_information: string (nullable = true)\n",
      " |-- product_description: string (nullable = true)\n",
      " |-- items_customers_buy_after_viewing_this_item: string (nullable = true)\n",
      " |-- customer_questions_and_answers: string (nullable = true)\n",
      " |-- customer_reviews: string (nullable = true)\n",
      " |-- sellers: string (nullable = true)\n",
      " |-- Unnamed: 17: string (nullable = true)\n",
      " |-- Unnamed: 18: string (nullable = true)\n",
      " |-- Unnamed: 19: string (nullable = true)\n",
      " |-- Unnamed: 20: string (nullable = true)\n",
      " |-- Unnamed: 21: string (nullable = true)\n",
      " |-- Unnamed: 22: string (nullable = true)\n",
      " |-- Unnamed: 23: string (nullable = true)\n",
      " |-- Unnamed: 24: double (nullable = true)\n",
      " |-- Unnamed: 25: string (nullable = true)\n",
      " |-- Unnamed: 26: string (nullable = true)\n",
      "\n"
     ]
    }
   ],
   "source": [
    "data.printSchema()"
   ]
  },
  {
   "cell_type": "markdown",
   "metadata": {},
   "source": [
    "#### Transform: Exploratory data analysis using spark df"
   ]
  },
  {
   "cell_type": "markdown",
   "metadata": {},
   "source": [
    "#### Q1. Unique ID count"
   ]
  },
  {
   "cell_type": "code",
   "execution_count": 13,
   "metadata": {},
   "outputs": [
    {
     "data": {
      "text/plain": [
       "1000"
      ]
     },
     "execution_count": 13,
     "metadata": {},
     "output_type": "execute_result"
    }
   ],
   "source": [
    "data.select(col(\"uniq_id\")).distinct().count()"
   ]
  },
  {
   "cell_type": "markdown",
   "metadata": {},
   "source": [
    "#### Q2 . Format change in price columns.\n",
    "        "
   ]
  },
  {
   "cell_type": "code",
   "execution_count": 14,
   "metadata": {},
   "outputs": [],
   "source": [
    "import pyspark.sql.functions as f\n",
    "data = data.withColumn('price',f.translate(\"price\",\"£\",\" \"))"
   ]
  },
  {
   "cell_type": "code",
   "execution_count": 15,
   "metadata": {},
   "outputs": [
    {
     "name": "stdout",
     "output_type": "stream",
     "text": [
      "+--------------------+--------------------+------------+------+-------------------------+-----------------+----------------------------+---------------------+--------------------------------+------------------------------------------+--------------------+--------------------+--------------------+-------------------------------------------+------------------------------+--------------------+--------------------+-----------+-----------+-----------+-----------+-----------+-----------+-----------+-----------+-----------+-----------+\n",
      "|             uniq_id|        product_name|manufacturer| price|number_available_in_stock|number_of_reviews|number_of_answered_questions|average_review_rating|amazon_category_and_sub_category|customers_who_bought_this_item_also_bought|         description| product_information| product_description|items_customers_buy_after_viewing_this_item|customer_questions_and_answers|    customer_reviews|             sellers|Unnamed: 17|Unnamed: 18|Unnamed: 19|Unnamed: 20|Unnamed: 21|Unnamed: 22|Unnamed: 23|Unnamed: 24|Unnamed: 25|Unnamed: 26|\n",
      "+--------------------+--------------------+------------+------+-------------------------+-----------------+----------------------------+---------------------+--------------------------------+------------------------------------------+--------------------+--------------------+--------------------+-------------------------------------------+------------------------------+--------------------+--------------------+-----------+-----------+-----------+-----------+-----------+-----------+-----------+-----------+-----------+-----------+\n",
      "|eac7efa5dbd3d667f...|Hornby 2014 Catal...|      Hornby|  3.42|                    5 new|             15.0|                         1.0|   4.9 out of 5 stars|            Hobbies > Model T...|                      http://www.amazon...|Product Descripti...|Technical Details...|Product Descripti...|                       http://www.amazon...|          Does this catalog...|Worth Buying For ...|{\"seller\"=>[{\"Sel...|       null|       null|       null|       null|       null|       null|       null|       null|       null|       null|\n",
      "|b17540ef7e86e461d...|FunkyBuys® Large ...|   FunkyBuys| 16.99|                     null|              2.0|                         1.0|   4.5 out of 5 stars|            Hobbies > Model T...|                      http://www.amazon...|Size Name:Large F...|Technical Details...|Size Name:Large F...|                       http://www.amazon...|          can you turn off ...|Four Stars // 4.0...|{\"seller\"=>{\"Sell...|       null|       null|       null|       null|       null|       null|       null|       null|       null|       null|\n",
      "|348f344247b0c1a93...|CLASSIC TOY TRAIN...|         ccf|  9.99|                    2 new|             17.0|                         2.0|   3.9 out of 5 stars|            Hobbies > Model T...|                      http://www.amazon...|BIG CLASSIC TOY T...|Technical Details...|BIG CLASSIC TOY T...|                       http://www.amazon...|          What is the gauge...|**Highly Recommen...|{\"seller\"=>[{\"Sel...|       null|       null|       null|       null|       null|       null|       null|       null|       null|       null|\n",
      "|e12b92dbb8eaee78b...|HORNBY Coach R441...|      Hornby| 39.99|                     null|              1.0|                         2.0|   5.0 out of 5 stars|            Hobbies > Model T...|                                      null|Hornby 00 Gauge B...|Technical Details...|Hornby 00 Gauge B...|                                       null|                          null|I love it // 5.0 ...|                null|       null|       null|       null|       null|       null|       null|       null|       null|       null|       null|\n",
      "|e33a9adeed5f36840...|Hornby 00 Gauge 0...|      Hornby| 32.19|                     null|              3.0|                         2.0|   4.7 out of 5 stars|            Hobbies > Model T...|                      http://www.amazon...|Product Descripti...|Technical Details...|Product Descripti...|                       http://www.amazon...|                          null|Birthday present ...|                null|       null|       null|       null|       null|       null|       null|       null|       null|       null|       null|\n",
      "+--------------------+--------------------+------------+------+-------------------------+-----------------+----------------------------+---------------------+--------------------------------+------------------------------------------+--------------------+--------------------+--------------------+-------------------------------------------+------------------------------+--------------------+--------------------+-----------+-----------+-----------+-----------+-----------+-----------+-----------+-----------+-----------+-----------+\n",
      "only showing top 5 rows\n",
      "\n"
     ]
    }
   ],
   "source": [
    "data.show(5)"
   ]
  },
  {
   "cell_type": "markdown",
   "metadata": {},
   "source": [
    "### Q3.  - Create column 'rating' and transform average_review_rating from 4.9 out of 5 stars to ->4.9."
   ]
  },
  {
   "cell_type": "code",
   "execution_count": 16,
   "metadata": {},
   "outputs": [],
   "source": [
    "data = data.withColumn('rating',f.substring('average_review_rating', 1,4))"
   ]
  },
  {
   "cell_type": "code",
   "execution_count": 17,
   "metadata": {},
   "outputs": [
    {
     "name": "stdout",
     "output_type": "stream",
     "text": [
      "+------+---------------------+\n",
      "|rating|average_review_rating|\n",
      "+------+---------------------+\n",
      "|  4.9 |   4.9 out of 5 stars|\n",
      "|  4.5 |   4.5 out of 5 stars|\n",
      "|  3.9 |   3.9 out of 5 stars|\n",
      "|  5.0 |   5.0 out of 5 stars|\n",
      "|  4.7 |   4.7 out of 5 stars|\n",
      "|  5.0 |   5.0 out of 5 stars|\n",
      "|  4.5 |   4.5 out of 5 stars|\n",
      "|  4.3 |   4.3 out of 5 stars|\n",
      "|  5.0 |   5.0 out of 5 stars|\n",
      "|  4.8 |   4.8 out of 5 stars|\n",
      "|  5.0 |   5.0 out of 5 stars|\n",
      "|  5.0 |   5.0 out of 5 stars|\n",
      "|  5.0 |   5.0 out of 5 stars|\n",
      "|  5.0 |   5.0 out of 5 stars|\n",
      "|  5.0 |   5.0 out of 5 stars|\n",
      "|  5.0 |   5.0 out of 5 stars|\n",
      "|  4.5 |   4.5 out of 5 stars|\n",
      "|  4.0 |   4.0 out of 5 stars|\n",
      "|  4.0 |   4.0 out of 5 stars|\n",
      "|  5.0 |   5.0 out of 5 stars|\n",
      "+------+---------------------+\n",
      "only showing top 20 rows\n",
      "\n"
     ]
    }
   ],
   "source": [
    "data.select(col('rating'),col(\"average_review_rating\")).show()"
   ]
  },
  {
   "cell_type": "markdown",
   "metadata": {},
   "source": [
    "#### Q4 . Select columns uniq_id\tproduct_name\tmanufacturer\tprice\tnumber_available_in_stock\tnumber_of_reviews\tnumber_of_answered_questions\taverage_review_rating\tamazon_category_and_sub_category ratings."
   ]
  },
  {
   "cell_type": "code",
   "execution_count": 18,
   "metadata": {},
   "outputs": [
    {
     "name": "stdout",
     "output_type": "stream",
     "text": [
      "+--------------------+--------------------+------------+-------+-------------------------+-----------------+----------------------------+---------------------+--------------------------------+\n",
      "|             uniq_id|        product_name|manufacturer|  price|number_available_in_stock|number_of_reviews|number_of_answered_questions|average_review_rating|amazon_category_and_sub_category|\n",
      "+--------------------+--------------------+------------+-------+-------------------------+-----------------+----------------------------+---------------------+--------------------------------+\n",
      "|eac7efa5dbd3d667f...|Hornby 2014 Catal...|      Hornby|   3.42|                    5 new|             15.0|                         1.0|   4.9 out of 5 stars|            Hobbies > Model T...|\n",
      "|b17540ef7e86e461d...|FunkyBuys® Large ...|   FunkyBuys|  16.99|                     null|              2.0|                         1.0|   4.5 out of 5 stars|            Hobbies > Model T...|\n",
      "|348f344247b0c1a93...|CLASSIC TOY TRAIN...|         ccf|   9.99|                    2 new|             17.0|                         2.0|   3.9 out of 5 stars|            Hobbies > Model T...|\n",
      "|e12b92dbb8eaee78b...|HORNBY Coach R441...|      Hornby|  39.99|                     null|              1.0|                         2.0|   5.0 out of 5 stars|            Hobbies > Model T...|\n",
      "|e33a9adeed5f36840...|Hornby 00 Gauge 0...|      Hornby|  32.19|                     null|              3.0|                         2.0|   4.7 out of 5 stars|            Hobbies > Model T...|\n",
      "|cb34f0a84102c1ebc...|20pcs Model Garde...|     Generic|   6.99|                     null|              2.0|                         1.0|   5.0 out of 5 stars|            Hobbies > Model T...|\n",
      "|f74b562470571dfb6...|Hornby 00 Gauge 2...|      Hornby|  24.99|                     null|              2.0|                         1.0|   4.5 out of 5 stars|            Hobbies > Model T...|\n",
      "|87bbb472ef9d90dce...|Hornby Santa's Ex...|      Hornby|  69.93|                    3 new|             36.0|                         7.0|   4.3 out of 5 stars|            Hobbies > Model T...|\n",
      "|7e2aa2b4596a39ba8...|Hornby Gauge West...|      Hornby| 235.58|                    4 new|              1.0|                         1.0|   5.0 out of 5 stars|            Hobbies > Model T...|\n",
      "|5afbaf65680c9f378...|Learning Curve Ch...| Chuggington|   null|                    1 new|              8.0|                         1.0|   4.8 out of 5 stars|            Hobbies > Model T...|\n",
      "|5c76389a8c302c6d7...|Hornby Gauge Rail...|      Hornby|  27.49|                    6 new|              1.0|                         1.0|   5.0 out of 5 stars|            Hobbies > Model T...|\n",
      "|878048c41f3c249ba...|Kato (USA) 176-13...|  Kato (USA)| 273.60|                     null|              1.0|                         1.0|   5.0 out of 5 stars|            Hobbies > Model T...|\n",
      "|f910c6542ededa5ab...|Bachmann 37-662 1...|    Bachmann|   9.60|                    2 new|              1.0|                         1.0|   5.0 out of 5 stars|            Hobbies > Model T...|\n",
      "|03a35de3f7af98149...|Hornby 00 Gauge 2...|      Hornby| 119.50|                    2 new|              3.0|                         1.0|   5.0 out of 5 stars|            Hobbies > Model T...|\n",
      "|c68c3ae3b0ea3146b...|Kato 3060-2 EF65 ...|        Kato|   null|                   18 new|              1.0|                         1.0|   5.0 out of 5 stars|            Hobbies > Model T...|\n",
      "|d27964f50577db8e4...|Glacier Express o...|        Kato|   null|                   12 new|              1.0|                         1.0|   5.0 out of 5 stars|            Hobbies > Model T...|\n",
      "|c3b2f6ec9cf6250c9...|Power Trains Frei...|Power Trains|   null|                    2 new|              2.0|                         1.0|   4.5 out of 5 stars|            Hobbies > Model T...|\n",
      "|e9ef14a0253f07434...|Chuggington Inter...| Chuggington|   null|                   1 used|              2.0|                         1.0|   4.0 out of 5 stars|            Hobbies > Model T...|\n",
      "|0ca63377ca8015e58...|Kumoyuni 74-0 Sho...|        Kato|  17.08|                   26 new|              1.0|                         1.0|   4.0 out of 5 stars|            Hobbies > Model T...|\n",
      "|42d20aa25e5902eff...|Bachmann 31-588 F...|    Bachmann|  96.05|                    2 new|              1.0|                         1.0|   5.0 out of 5 stars|            Hobbies > Model T...|\n",
      "+--------------------+--------------------+------------+-------+-------------------------+-----------------+----------------------------+---------------------+--------------------------------+\n",
      "only showing top 20 rows\n",
      "\n"
     ]
    }
   ],
   "source": [
    "from pyspark.sql.functions import col\n",
    "data.select(col(\"uniq_id\"),col(\"product_name\"),col(\"manufacturer\"),col(\"price\"),col(\"number_available_in_stock\"),col(\"number_of_reviews\"),col(\"number_of_answered_questions\"),col(\"average_review_rating\"),col(\"amazon_category_and_sub_category\")).show()"
   ]
  },
  {
   "cell_type": "code",
   "execution_count": 19,
   "metadata": {},
   "outputs": [],
   "source": [
    "# data1 =data"
   ]
  },
  {
   "cell_type": "markdown",
   "metadata": {},
   "source": [
    "### Q5 . Format column amazon_category_and_sub_category. \n",
    " "
   ]
  },
  {
   "cell_type": "code",
   "execution_count": 20,
   "metadata": {},
   "outputs": [],
   "source": [
    "from pyspark.sql.functions import regexp_replace\n",
    "#df.withColumn('address', regexp_replace('address', 'Rd', 'Road')) \\\n",
    "#  .show(truncate=False)"
   ]
  },
  {
   "cell_type": "code",
   "execution_count": 102,
   "metadata": {},
   "outputs": [],
   "source": [
    "data = data.withColumn('amazon_category_and_sub_category', regexp_replace(\"amazon_category_and_sub_category\", 'Hobbies > Model Trains & Railway Sets > Rail Vehicles > Trains', 'Train')) \\\n",
    "\n",
    "\n",
    "data = data.withColumn('amazon_category_and_sub_category', regexp_replace(\"amazon_category_and_sub_category\", 'Hobbies > Model Trains & Railway Sets > Lighting & Signal Engineering > Lamps & Lighting', 'Lamps & Lighting')) \n",
    "\n",
    "\n",
    "data = data.withColumn('amazon_category_and_sub_category', regexp_replace(\"amazon_category_and_sub_category\", 'Hobbies > Model Trains & Railway Sets > Rail Vehicles > Locomotives', 'Locomotives')) \n",
    "\n",
    "data = data.withColumn('amazon_category_and_sub_category', regexp_replace(\"amazon_category_and_sub_category\", 'Hobbies > Model Trains & Railway Sets > Lighting & Signal Engineering > Signal & Sound', 'Signal & Sound')) \n",
    "\n",
    "\n",
    "\n",
    "data = data.withColumn('amazon_category_and_sub_category', regexp_replace(\"amazon_category_and_sub_category\", 'Hobbies > Model Trains & Railway Sets > Accessories > Recreational Activities', 'Recreational Activities'))\n",
    "\n",
    "data = data.withColumn('amazon_category_and_sub_category', regexp_replace(\"amazon_category_and_sub_category\", 'Hobbies > Model Trains & Railway Sets > Lighting & Signal Engineering > Transformers & Decoders', 'Transformers & Decoders'))\n",
    "\n",
    "data = data.withColumn('amazon_category_and_sub_category', regexp_replace(\"amazon_category_and_sub_category\", 'Hobbies > Model Trains & Railway Sets > Lighting & Signal Engineering > Control Moduls', 'Control Moduls'))\n",
    "\n",
    "\n",
    "data = data.withColumn('amazon_category_and_sub_category', regexp_replace(\"amazon_category_and_sub_category\", 'Hobbies > Model Trains & Railway Sets > Accessories > Landscaping', 'Landscaping'))\n",
    "\n",
    "\n",
    "data = data.withColumn('amazon_category_and_sub_category', regexp_replace(\"amazon_category_and_sub_category\", 'Characters & Brands > Thomas & Friends > Train Play > Motor Road & Rail', 'Motor Road & Rail'))\n",
    "\n",
    "data = data.withColumn('amazon_category_and_sub_category', regexp_replace(\"amazon_category_and_sub_category\", 'Characters & Brands > Thomas & Friends > Train Play > Wooden Thomas', 'Wooden Thomas'))\n",
    "\n",
    "\n",
    "data = data.withColumn('amazon_category_and_sub_category', regexp_replace(\"amazon_category_and_sub_category\", 'Games > Dice & Dice Games', 'Dice & Dice Games'))\n",
    "\n",
    "\n",
    "data = data.withColumn('amazon_category_and_sub_category', regexp_replace(\"amazon_category_and_sub_category\", 'Characters & Brands > Tomy', 'Tomy'))\n",
    "\n",
    "\n",
    "data = data.withColumn('amazon_category_and_sub_category', regexp_replace(\"amazon_category_and_sub_category\", 'Figures & Playsets > Science Fiction & Fantasy', 'Science Fiction & Fantasy'))\n",
    "\n",
    "\n",
    "data = data.withColumn('amazon_category_and_sub_category', regexp_replace(\"amazon_category_and_sub_category\", 'Characters & Brands > Hasbro', 'Hasbro'))\n",
    "\n",
    "data = data.withColumn('amazon_category_and_sub_category', regexp_replace(\"amazon_category_and_sub_category\", 'Figures & Playsets > Science Fiction & Fantasy', 'Science Fiction & Fantasy'))\n",
    "\n",
    "data = data.withColumn('amazon_category_and_sub_category', regexp_replace(\"amazon_category_and_sub_category\", 'Die-Cast & Toy Vehicles > Toy Vehicles & Accessories > Scaled Models > Vehicles', 'Vehicles'))\n",
    "\n",
    "\n",
    "\n",
    "data = data.withColumn('amazon_category_and_sub_category', regexp_replace(\"amazon_category_and_sub_category\", 'Baby & Toddler Toys > Pushchair Toys', 'Pushchair Toys'))\n",
    "\n",
    "data = data.withColumn('amazon_category_and_sub_category', regexp_replace(\"amazon_category_and_sub_category\", 'Arts & Crafts > Art Sand', 'Art Sand'))\n",
    "\n",
    "\n",
    "data = data.withColumn('amazon_category_and_sub_category', regexp_replace(\"amazon_category_and_sub_category\", 'Figures & Playsets > Knights & Castles', 'Knights & Castles'))\n",
    "\n",
    "data = data.withColumn('amazon_category_and_sub_category', regexp_replace(\"amazon_category_and_sub_category\", 'Sports Toys & Outdoor > Beach Toys > Beach Toys', 'Beach Toys'))\n",
    "\n",
    "\n",
    "data = data.withColumn('amazon_category_and_sub_category', regexp_replace(\"amazon_category_and_sub_category\", 'Characters & Brands > Disney > Toys', 'Toys'))\n",
    "\n",
    "\n",
    "\n",
    "\n",
    "data = data.withColumn('amazon_category_and_sub_category', regexp_replace(\"amazon_category_and_sub_category\", 'Sweets, Chocolate & Gum > Chocolate', 'Chocolate'))\n",
    "\n",
    "data = data.withColumn('amazon_category_and_sub_category', regexp_replace(\"amazon_category_and_sub_category\", 'Arts & Crafts > Childrens Craft Kits', 'Childrens Craft Kits'))\n",
    "\n",
    "\n",
    "\n",
    "data = data.withColumn('amazon_category_and_sub_category', regexp_replace(\"amazon_category_and_sub_category\", 'Figures & Playsets > Knights & Castles', 'Knights & Castles'))\n",
    "\n",
    "\n",
    "data = data.withColumn('amazon_category_and_sub_category', regexp_replace(\"amazon_category_and_sub_category\", 'Home Accessories > Decorative Accessories > Stickers > Window Stickers', 'Window Stickers'))\n",
    "\n",
    "\n",
    "data = data.withColumn('amazon_category_and_sub_category', regexp_replace(\"amazon_category_and_sub_category\", 'Figures & Playsets > Science Fiction & Fantasy', 'Science Fiction & Fantasy'))\n",
    "\n",
    "data = data.withColumn('amazon_category_and_sub_category', regexp_replace(\"amazon_category_and_sub_category\", 'Arts & Crafts > Art & Craft Supplies > Glitter', 'Glitter'))\n",
    "\n",
    "\n",
    "\n",
    "data = data.withColumn('amazon_category_and_sub_category', regexp_replace(\"amazon_category_and_sub_category\", 'Home Accessories > Decorative Accessories > Stickers > Window Stickers', 'Window Stickers'))\n",
    "\n",
    "data = data.withColumn('amazon_category_and_sub_category', regexp_replace(\"amazon_category_and_sub_category\", 'Characters & Brands > Barbie', 'Barbie'))\n",
    "\n",
    "\n",
    "data = data.withColumn('amazon_category_and_sub_category', regexp_replace(\"amazon_category_and_sub_category\", 'Figures & Playsets > Farm & Animals', 'Farm & Animals'))\n",
    "\n",
    "\n",
    "\n",
    "\n",
    "data = data.withColumn('amazon_category_and_sub_category', regexp_replace(\"amazon_category_and_sub_category\", 'Characters & Brands > Star Wars > Toys', 'Toys'))\n",
    "\n",
    "data = data.withColumn('amazon_category_and_sub_category', regexp_replace(\"amazon_category_and_sub_category\", 'Fancy Dress > Costumes', 'Costumes'))\n",
    "\n",
    "data = data.withColumn('amazon_category_and_sub_category', regexp_replace(\"amazon_category_and_sub_category\", 'Bags > Schoolbags & Backpacks > Bags', 'Bags'))\n",
    "\n",
    "\n",
    "\n",
    "data = data.withColumn('amazon_category_and_sub_category', regexp_replace(\"amazon_category_and_sub_category\", 'Characters & Brands > Star Wars > Toys', 'Toys'))\n",
    "\n",
    "data = data.withColumn('amazon_category_and_sub_category', regexp_replace(\"amazon_category_and_sub_category\", 'Arts & Crafts > Childrens Craft Kits', 'Childrens Craft Kits'))\n",
    "\n",
    "\n",
    "data = data.withColumn('amazon_category_and_sub_category', regexp_replace(\"amazon_category_and_sub_category\", 'Handbags & Shoulder Bags > Kids', 'Kids'))\n",
    "\n",
    "data = data.withColumn('amazon_category_and_sub_category', regexp_replace(\"amazon_category_and_sub_category\", 'Games > Board Games', 'Board Games'))\n",
    "\n",
    "data = data.withColumn('amazon_category_and_sub_category', regexp_replace(\"amazon_category_and_sub_category\", 'Fancy Dress > Costumes', 'Costumes'))\n",
    "\n",
    "\n",
    "data = data.withColumn('amazon_category_and_sub_category', regexp_replace(\"amazon_category_and_sub_category\", 'Arts & Crafts > Felt Kits', 'Felt Kits'))\n",
    "\n",
    "\n",
    "data = data.withColumn('amazon_category_and_sub_category', regexp_replace(\"amazon_category_and_sub_category\", 'Figures & Playsets > Pirates', 'Pirates'))\n",
    "\n",
    "\n",
    "\n",
    "data = data.withColumn('amazon_category_and_sub_category', regexp_replace(\"amazon_category_and_sub_category\", 'Die-Cast & Toy Vehicles > Toy Vehicles & Accessories > Scaled Models > Boats', 'Boats'))\n",
    "\n",
    "data = data.withColumn('amazon_category_and_sub_category', regexp_replace(\"amazon_category_and_sub_category\", 'Arts & Crafts > Childrens Craft Kits', 'Childrens Craft Kits'))\n",
    "\n",
    "\n",
    "data = data.withColumn('amazon_category_and_sub_category', regexp_replace(\"amazon_category_and_sub_category\", 'Die-Cast & Toy Vehicles > Toy Vehicles & Accessories > Scaled Models > Trains', 'Trains'))\n",
    "\n"
   ]
  },
  {
   "cell_type": "markdown",
   "metadata": {},
   "source": [
    "### Q6"
   ]
  },
  {
   "cell_type": "code",
   "execution_count": 105,
   "metadata": {},
   "outputs": [
    {
     "name": "stdout",
     "output_type": "stream",
     "text": [
      "+--------------------+--------------------+------------+------+-------------------------+-----------------+----------------------------+---------------------+--------------------------------+------------------------------------------+--------------------+--------------------+--------------------+-------------------------------------------+------------------------------+--------------------+--------------------+-----------+-----------+-----------+-----------+-----------+-----------+-----------+-----------+-----------+-----------+------+\n",
      "|             uniq_id|        product_name|manufacturer| price|number_available_in_stock|number_of_reviews|number_of_answered_questions|average_review_rating|amazon_category_and_sub_category|customers_who_bought_this_item_also_bought|         description| product_information| product_description|items_customers_buy_after_viewing_this_item|customer_questions_and_answers|    customer_reviews|             sellers|Unnamed: 17|Unnamed: 18|Unnamed: 19|Unnamed: 20|Unnamed: 21|Unnamed: 22|Unnamed: 23|Unnamed: 24|Unnamed: 25|Unnamed: 26|rating|\n",
      "+--------------------+--------------------+------------+------+-------------------------+-----------------+----------------------------+---------------------+--------------------------------+------------------------------------------+--------------------+--------------------+--------------------+-------------------------------------------+------------------------------+--------------------+--------------------+-----------+-----------+-----------+-----------+-----------+-----------+-----------+-----------+-----------+-----------+------+\n",
      "|eac7efa5dbd3d667f...|Hornby 2014 Catal...|      Hornby|  3.42|                    5 new|             15.0|                         1.0|   4.9 out of 5 stars|                           Train|                      http://www.amazon...|Product Descripti...|Technical Details...|Product Descripti...|                       http://www.amazon...|          Does this catalog...|Worth Buying For ...|{\"seller\"=>[{\"Sel...|       null|       null|       null|       null|       null|       null|       null|       null|       null|       null|  4.9 |\n",
      "|b17540ef7e86e461d...|FunkyBuys® Large ...|   FunkyBuys| 16.99|                     null|              2.0|                         1.0|   4.5 out of 5 stars|                           Train|                      http://www.amazon...|Size Name:Large F...|Technical Details...|Size Name:Large F...|                       http://www.amazon...|          can you turn off ...|Four Stars // 4.0...|{\"seller\"=>{\"Sell...|       null|       null|       null|       null|       null|       null|       null|       null|       null|       null|  4.5 |\n",
      "|348f344247b0c1a93...|CLASSIC TOY TRAIN...|         ccf|  9.99|                    2 new|             17.0|                         2.0|   3.9 out of 5 stars|                           Train|                      http://www.amazon...|BIG CLASSIC TOY T...|Technical Details...|BIG CLASSIC TOY T...|                       http://www.amazon...|          What is the gauge...|**Highly Recommen...|{\"seller\"=>[{\"Sel...|       null|       null|       null|       null|       null|       null|       null|       null|       null|       null|  3.9 |\n",
      "|e12b92dbb8eaee78b...|HORNBY Coach R441...|      Hornby| 39.99|                     null|              1.0|                         2.0|   5.0 out of 5 stars|                           Train|                                      null|Hornby 00 Gauge B...|Technical Details...|Hornby 00 Gauge B...|                                       null|                          null|I love it // 5.0 ...|                null|       null|       null|       null|       null|       null|       null|       null|       null|       null|       null|  5.0 |\n",
      "|e33a9adeed5f36840...|Hornby 00 Gauge 0...|      Hornby| 32.19|                     null|              3.0|                         2.0|   4.7 out of 5 stars|                           Train|                      http://www.amazon...|Product Descripti...|Technical Details...|Product Descripti...|                       http://www.amazon...|                          null|Birthday present ...|                null|       null|       null|       null|       null|       null|       null|       null|       null|       null|       null|  4.7 |\n",
      "+--------------------+--------------------+------------+------+-------------------------+-----------------+----------------------------+---------------------+--------------------------------+------------------------------------------+--------------------+--------------------+--------------------+-------------------------------------------+------------------------------+--------------------+--------------------+-----------+-----------+-----------+-----------+-----------+-----------+-----------+-----------+-----------+-----------+------+\n",
      "only showing top 5 rows\n",
      "\n"
     ]
    }
   ],
   "source": [
    "#Show dataframe\n",
    "data.show(5)"
   ]
  },
  {
   "cell_type": "markdown",
   "metadata": {},
   "source": [
    "#### Q7. GroupBy amazon_category_and_sub_category and count."
   ]
  },
  {
   "cell_type": "code",
   "execution_count": 97,
   "metadata": {},
   "outputs": [
    {
     "data": {
      "text/plain": [
       "<pyspark.sql.group.GroupedData at 0x16619dbdbe0>"
      ]
     },
     "execution_count": 97,
     "metadata": {},
     "output_type": "execute_result"
    }
   ],
   "source": [
    "data.groupBy(\"amazon_category_and_sub_category\")"
   ]
  },
  {
   "cell_type": "code",
   "execution_count": 98,
   "metadata": {},
   "outputs": [
    {
     "name": "stdout",
     "output_type": "stream",
     "text": [
      "+--------------------------------+-----+\n",
      "|amazon_category_and_sub_category|count|\n",
      "+--------------------------------+-----+\n",
      "|               Motor Road & Rail|    1|\n",
      "|                Lamps & Lighting|    6|\n",
      "|                        Vehicles|  189|\n",
      "|                 Window Stickers|    3|\n",
      "|            Recreational Acti...|    4|\n",
      "|                            Tomy|    2|\n",
      "|                            Bags|    1|\n",
      "|                   Wooden Thomas|    1|\n",
      "|            Arts & Crafts > C...|    4|\n",
      "|                          Barbie|    1|\n",
      "|                       Chocolate|    1|\n",
      "|                         Glitter|    1|\n",
      "|                      Beach Toys|    1|\n",
      "|                         Pirates|    1|\n",
      "|               Dice & Dice Games|  194|\n",
      "|                           Kids'|    1|\n",
      "|            Science Fiction &...|    3|\n",
      "|                           Boats|    8|\n",
      "|                  Pushchair Toys|    1|\n",
      "|                     Landscaping|    1|\n",
      "+--------------------------------+-----+\n",
      "only showing top 20 rows\n",
      "\n"
     ]
    }
   ],
   "source": [
    "data.groupBy('amazon_category_and_sub_category').count().show()"
   ]
  },
  {
   "cell_type": "markdown",
   "metadata": {},
   "source": [
    "### Q8.Load: Save analysis report\n",
    "    - show df, save as files"
   ]
  },
  {
   "cell_type": "code",
   "execution_count": 99,
   "metadata": {},
   "outputs": [
    {
     "name": "stdout",
     "output_type": "stream",
     "text": [
      "+--------------------+--------------------+------------+------+-------------------------+-----------------+----------------------------+---------------------+--------------------------------+------------------------------------------+--------------------+--------------------+--------------------+-------------------------------------------+------------------------------+--------------------+--------------------+-----------+-----------+-----------+-----------+-----------+-----------+-----------+-----------+-----------+-----------+------+\n",
      "|             uniq_id|        product_name|manufacturer| price|number_available_in_stock|number_of_reviews|number_of_answered_questions|average_review_rating|amazon_category_and_sub_category|customers_who_bought_this_item_also_bought|         description| product_information| product_description|items_customers_buy_after_viewing_this_item|customer_questions_and_answers|    customer_reviews|             sellers|Unnamed: 17|Unnamed: 18|Unnamed: 19|Unnamed: 20|Unnamed: 21|Unnamed: 22|Unnamed: 23|Unnamed: 24|Unnamed: 25|Unnamed: 26|rating|\n",
      "+--------------------+--------------------+------------+------+-------------------------+-----------------+----------------------------+---------------------+--------------------------------+------------------------------------------+--------------------+--------------------+--------------------+-------------------------------------------+------------------------------+--------------------+--------------------+-----------+-----------+-----------+-----------+-----------+-----------+-----------+-----------+-----------+-----------+------+\n",
      "|eac7efa5dbd3d667f...|Hornby 2014 Catal...|      Hornby|  3.42|                    5 new|             15.0|                         1.0|   4.9 out of 5 stars|                           Train|                      http://www.amazon...|Product Descripti...|Technical Details...|Product Descripti...|                       http://www.amazon...|          Does this catalog...|Worth Buying For ...|{\"seller\"=>[{\"Sel...|       null|       null|       null|       null|       null|       null|       null|       null|       null|       null|  4.9 |\n",
      "|b17540ef7e86e461d...|FunkyBuys® Large ...|   FunkyBuys| 16.99|                     null|              2.0|                         1.0|   4.5 out of 5 stars|                           Train|                      http://www.amazon...|Size Name:Large F...|Technical Details...|Size Name:Large F...|                       http://www.amazon...|          can you turn off ...|Four Stars // 4.0...|{\"seller\"=>{\"Sell...|       null|       null|       null|       null|       null|       null|       null|       null|       null|       null|  4.5 |\n",
      "|348f344247b0c1a93...|CLASSIC TOY TRAIN...|         ccf|  9.99|                    2 new|             17.0|                         2.0|   3.9 out of 5 stars|                           Train|                      http://www.amazon...|BIG CLASSIC TOY T...|Technical Details...|BIG CLASSIC TOY T...|                       http://www.amazon...|          What is the gauge...|**Highly Recommen...|{\"seller\"=>[{\"Sel...|       null|       null|       null|       null|       null|       null|       null|       null|       null|       null|  3.9 |\n",
      "|e12b92dbb8eaee78b...|HORNBY Coach R441...|      Hornby| 39.99|                     null|              1.0|                         2.0|   5.0 out of 5 stars|                           Train|                                      null|Hornby 00 Gauge B...|Technical Details...|Hornby 00 Gauge B...|                                       null|                          null|I love it // 5.0 ...|                null|       null|       null|       null|       null|       null|       null|       null|       null|       null|       null|  5.0 |\n",
      "|e33a9adeed5f36840...|Hornby 00 Gauge 0...|      Hornby| 32.19|                     null|              3.0|                         2.0|   4.7 out of 5 stars|                           Train|                      http://www.amazon...|Product Descripti...|Technical Details...|Product Descripti...|                       http://www.amazon...|                          null|Birthday present ...|                null|       null|       null|       null|       null|       null|       null|       null|       null|       null|       null|  4.7 |\n",
      "+--------------------+--------------------+------------+------+-------------------------+-----------------+----------------------------+---------------------+--------------------------------+------------------------------------------+--------------------+--------------------+--------------------+-------------------------------------------+------------------------------+--------------------+--------------------+-----------+-----------+-----------+-----------+-----------+-----------+-----------+-----------+-----------+-----------+------+\n",
      "only showing top 5 rows\n",
      "\n"
     ]
    }
   ],
   "source": [
    "data.show(5)"
   ]
  },
  {
   "cell_type": "code",
   "execution_count": 119,
   "metadata": {},
   "outputs": [],
   "source": [
    "data.toPandas().to_csv('Mycsv.csv')"
   ]
  },
  {
   "cell_type": "code",
   "execution_count": null,
   "metadata": {},
   "outputs": [],
   "source": []
  }
 ],
 "metadata": {
  "kernelspec": {
   "display_name": "Python 3",
   "language": "python",
   "name": "python3"
  },
  "language_info": {
   "codemirror_mode": {
    "name": "ipython",
    "version": 3
   },
   "file_extension": ".py",
   "mimetype": "text/x-python",
   "name": "python",
   "nbconvert_exporter": "python",
   "pygments_lexer": "ipython3",
   "version": "3.8.3"
  }
 },
 "nbformat": 4,
 "nbformat_minor": 4
}
